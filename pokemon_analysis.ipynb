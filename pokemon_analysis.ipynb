{
 "cells": [
  {
   "cell_type": "markdown",
   "metadata": {},
   "source": [
    "# Pokemon Dataset\n",
    "\n",
    "This is an analysis of the [Pokemon Dataset](https://www.kaggle.com/rajgaurav9/pokemon-stats-and-description-with-pictures-json#pokemon_full.json) found on Kaggle. Lets start by import any libraries that we will need and the data."
   ]
  },
  {
   "cell_type": "code",
   "execution_count": 1,
   "metadata": {},
   "outputs": [],
   "source": [
    "import json\n",
    "import re\n",
    "import matplotlib.pyplot as plt\n",
    "\n",
    "pokemons = json.load(open('pokemon_full.json'))"
   ]
  },
  {
   "cell_type": "markdown",
   "metadata": {},
   "source": [
    "## What does the data look like"
   ]
  },
  {
   "cell_type": "markdown",
   "metadata": {},
   "source": [
    "First lets see what each entry looks like."
   ]
  },
  {
   "cell_type": "code",
   "execution_count": 2,
   "metadata": {},
   "outputs": [
    {
     "data": {
      "text/plain": [
       "{'id': '001',\n",
       " 'name': 'Bulbasaur',\n",
       " 'species': 'Seed Pokemon',\n",
       " 'type': ['Grass', 'Poison'],\n",
       " 'height': '2ft.4in. (0.71m)',\n",
       " 'weight': '15.2 lbs (6.9 kg)',\n",
       " 'abilities': ['Overgrow', 'Chlorophyll'],\n",
       " 'stats': {'hp': 45,\n",
       "  'attack': 49,\n",
       "  'defense': 49,\n",
       "  'sp.atk': 65,\n",
       "  'sp.def': 65,\n",
       "  'speed': 45,\n",
       "  'total': 318},\n",
       " 'evolution': ['Bulbasaur', 'Ivysaur', 'Venusaur'],\n",
       " 'description': 'For some time after its birth, it grows by gaining nourishment from the seed on its back.',\n",
       " 'gen': 1}"
      ]
     },
     "execution_count": 2,
     "metadata": {},
     "output_type": "execute_result"
    }
   ],
   "source": [
    "pokemons[0]"
   ]
  },
  {
   "cell_type": "markdown",
   "metadata": {},
   "source": [
    "Also, lets check the last element to see if anything changed from the first pokemon to the last pokemon."
   ]
  },
  {
   "cell_type": "code",
   "execution_count": 3,
   "metadata": {
    "scrolled": true
   },
   "outputs": [
    {
     "data": {
      "text/plain": [
       "{'name': 'Magearna',\n",
       " 'species': 'Artificial Pokemon',\n",
       " 'id': '801',\n",
       " 'type': ['Steel', 'Fairy'],\n",
       " 'height': '(1m)',\n",
       " 'weight': '(80.5 kg)',\n",
       " 'abilities': ['Soul-Heart'],\n",
       " 'stats': {'hp': 80,\n",
       "  'attack': 95,\n",
       "  'defense': 115,\n",
       "  'sp.atk': 130,\n",
       "  'sp.def': 115,\n",
       "  'speed': 65,\n",
       "  'total': 600},\n",
       " 'evolution': [],\n",
       " 'description': '',\n",
       " 'gen': 7}"
      ]
     },
     "execution_count": 3,
     "metadata": {},
     "output_type": "execute_result"
    }
   ],
   "source": [
    "pokemons[800]"
   ]
  },
  {
   "cell_type": "markdown",
   "metadata": {},
   "source": [
    "Some things to notice are that the heights are not always stored as feet and inches so it will be best to just use the meter heights. Also, not all pokemon have a description and evolutions are not recorded for every pokemon."
   ]
  },
  {
   "cell_type": "markdown",
   "metadata": {},
   "source": [
    "## Number of Pokemon in Each Generation"
   ]
  },
  {
   "cell_type": "code",
   "execution_count": 4,
   "metadata": {},
   "outputs": [],
   "source": [
    "generations = [pokemon['gen'] for pokemon in pokemons]"
   ]
  },
  {
   "cell_type": "code",
   "execution_count": 5,
   "metadata": {},
   "outputs": [
    {
     "data": {
      "text/plain": [
       "Text(0.5, 1.0, 'Total Number of Pokemon in Each Generation')"
      ]
     },
     "execution_count": 5,
     "metadata": {},
     "output_type": "execute_result"
    },
    {
     "data": {
      "image/png": "[encoded data removed]",
      "text/plain": [
       "<Figure size 864x504 with 1 Axes>"
      ]
     },
     "metadata": {
      "needs_background": "light"
     },
     "output_type": "display_data"
    }
   ],
   "source": [
    "plt.figure(figsize=(12, 7))\n",
    "plt.hist(generations, bins=(range(1, 9)), align='left', edgecolor='black', color='yellow')\n",
    "plt.xlabel(\"Generation\")\n",
    "plt.ylabel(\"Number of Pokemon\")\n",
    "plt.title(\"Total Number of Pokemon in Each Generation\")"
   ]
  },
  {
   "cell_type": "markdown",
   "metadata": {},
   "source": [
    "So we can see that Gen 6 has the least amount of pokemon while Gen 5 had the most.\n",
    "\n",
    "## Heights of Pokemon"
   ]
  },
  {
   "cell_type": "code",
   "execution_count": 6,
   "metadata": {},
   "outputs": [
    {
     "data": {
      "text/plain": [
       "[0.71, 0.99, 2.01, 0.61, 1.09, 1.7, 0.51, 0.99, 1.6, 0.3]"
      ]
     },
     "execution_count": 6,
     "metadata": {},
     "output_type": "execute_result"
    }
   ],
   "source": [
    "def clean_height(string):\n",
    "    split_heights = string.split(\" \")\n",
    "    if len(split_heights) == 2:\n",
    "        meter_height = split_heights[1]\n",
    "    else:\n",
    "        meter_height = split_heights[0]\n",
    "    \n",
    "    meter_height = re.sub(\"[^0-9.]+\", '', meter_height).strip()\n",
    "    return meter_height\n",
    "\n",
    "heights = []\n",
    "for pokemon in pokemons:\n",
    "    height = pokemon['height']\n",
    "    height = clean_height(height)\n",
    "    if height == '':\n",
    "        height = 0.0\n",
    "    else:\n",
    "        height = float(height)\n",
    "    heights.append(height)\n",
    "    \n",
    "heights[0:10]"
   ]
  },
  {
   "cell_type": "code",
   "execution_count": 7,
   "metadata": {
    "scrolled": true
   },
   "outputs": [
    {
     "data": {
      "text/plain": [
       "(array([594., 176.,  17.,   6.,   4.,   0.,   3.,   0.,   0.,   1.]),\n",
       " array([ 0.  ,  1.45,  2.9 ,  4.35,  5.8 ,  7.25,  8.7 , 10.15, 11.6 ,\n",
       "        13.05, 14.5 ]),\n",
       " <a list of 10 Patch objects>)"
      ]
     },
     "execution_count": 7,
     "metadata": {},
     "output_type": "execute_result"
    },
    {
     "data": {
      "image/png": "[encoded data removed]",
      "text/plain": [
       "<Figure size 432x288 with 1 Axes>"
      ]
     },
     "metadata": {
      "needs_background": "light"
     },
     "output_type": "display_data"
    }
   ],
   "source": [
    "#plt.figure(figsize=(16, 9))\n",
    "plt.hist(heights)"
   ]
  },
  {
   "cell_type": "markdown",
   "metadata": {},
   "source": [
    "So there seems to be some outliers that is skewing our data so lets see what it looks like without them."
   ]
  },
  {
   "cell_type": "code",
   "execution_count": 8,
   "metadata": {},
   "outputs": [],
   "source": [
    "height_without_outliers = [height for height in heights if height < 3]"
   ]
  },
  {
   "cell_type": "code",
   "execution_count": 9,
   "metadata": {},
   "outputs": [
    {
     "data": {
      "text/plain": [
       "Text(0.5, 1.0, 'Number of pokemon at each height')"
      ]
     },
     "execution_count": 9,
     "metadata": {},
     "output_type": "execute_result"
    },
    {
     "data": {
      "image/png": "[encoded data removed]",
      "text/plain": [
       "<Figure size 432x288 with 1 Axes>"
      ]
     },
     "metadata": {
      "needs_background": "light"
     },
     "output_type": "display_data"
    }
   ],
   "source": [
    "plt.hist(height_without_outliers, edgecolor='black')\n",
    "plt.xlabel(\"height(m)\")\n",
    "plt.ylabel(\"number of pokemon\")\n",
    "plt.title(\"Number of pokemon at each height\")"
   ]
  },
  {
   "cell_type": "markdown",
   "metadata": {},
   "source": [
    "## Height vs Health\n",
    "\n",
    "Lets see if height plays a role in how healthy a pokemon is."
   ]
  },
  {
   "cell_type": "code",
   "execution_count": 10,
   "metadata": {},
   "outputs": [
    {
     "data": {
      "text/plain": [
       "[45, 60, 80, 39, 58, 78, 44, 59, 79, 45]"
      ]
     },
     "execution_count": 10,
     "metadata": {},
     "output_type": "execute_result"
    }
   ],
   "source": [
    "hp = [pokemon['stats']['hp'] for pokemon in pokemons]\n",
    "hp[0:10]"
   ]
  },
  {
   "cell_type": "code",
   "execution_count": 13,
   "metadata": {},
   "outputs": [
    {
     "data": {
      "text/plain": [
       "<matplotlib.collections.PathCollection at 0x11ad3c390>"
      ]
     },
     "execution_count": 13,
     "metadata": {},
     "output_type": "execute_result"
    },
    {
     "data": {
      "image/png": "[encoded data removed]",
      "text/plain": [
       "<Figure size 1152x648 with 1 Axes>"
      ]
     },
     "metadata": {
      "needs_background": "light"
     },
     "output_type": "display_data"
    }
   ],
   "source": [
    "plt.figure(figsize=(16, 9))\n",
    "plt.scatter(heights, hp)"
   ]
  },
  {
   "cell_type": "code",
   "execution_count": null,
   "metadata": {},
   "outputs": [],
   "source": []
  }
 ],
 "metadata": {
  "kernelspec": {
   "display_name": "Python 3",
   "language": "python",
   "name": "python3"
  },
  "language_info": {
   "codemirror_mode": {
    "name": "ipython",
    "version": 3
   },
   "file_extension": ".py",
   "mimetype": "text/x-python",
   "name": "python",
   "nbconvert_exporter": "python",
   "pygments_lexer": "ipython3",
   "version": "3.7.4"
  }
 },
 "nbformat": 4,
 "nbformat_minor": 2
}
